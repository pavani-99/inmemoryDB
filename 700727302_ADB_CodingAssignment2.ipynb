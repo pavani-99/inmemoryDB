{
 "cells": [
  {
   "cell_type": "markdown",
   "metadata": {},
   "source": [
    "Name    : Pavani Buragadda <br>\n",
    "700    #: 700727302        <br>\n",
    "Course #: CS 5600          <br>\n",
    "Semester: Spring 2022"
   ]
  },
  {
   "cell_type": "markdown",
   "metadata": {},
   "source": [
    "Assumptions:<br>\n",
    "commands : get,set,unset etc are case insensitive <br>\n",
    "Variable names: a,b, A,B etc are case sensitive <br>\n",
    "Variable values: All variables values are in int. As code typecasts string to int. <br>"
   ]
  },
  {
   "cell_type": "code",
   "execution_count": 1,
   "metadata": {},
   "outputs": [],
   "source": [
    "def execute_commands(statement, ilist):\n",
    "    \n",
    "    if statement == 'set' and len(ilist)==3:\n",
    "        set_elem(ilist)\n",
    "    elif statement == 'get'and len(ilist)==2:\n",
    "        get(ilist)\n",
    "    elif statement == 'unset'and len(ilist)==2:\n",
    "        unset(ilist)\n",
    "    elif statement == 'numequalto'and len(ilist)==2:\n",
    "        numequalto(ilist)\n",
    "    elif statement == 'add'and len(ilist)==3:\n",
    "        add(ilist)\n",
    "    elif statement == 'begin':\n",
    "        begin()\n",
    "    elif statement == 'commit':\n",
    "        commit()\n",
    "    elif statement == 'rollback':\n",
    "        rollback()\n",
    "    else:\n",
    "        print('Please type a valid command')\n",
    "   "
   ]
  },
  {
   "cell_type": "code",
   "execution_count": 2,
   "metadata": {},
   "outputs": [],
   "source": [
    "def set_elem(ilist):\n",
    "    if transaction_falg == True:\n",
    "        variable_list[len(variable_list)-1].append(ilist[1])\n",
    "        if ilist[1] in variable_hist:\n",
    "            variable_hist[ilist[1]].append(ilist[2])\n",
    "        else:\n",
    "            variable_hist[ilist[1]]= [ilist[2]]\n",
    "    else:\n",
    "        variable_hist[ilist[1]]= [ilist[2]]    "
   ]
  },
  {
   "cell_type": "code",
   "execution_count": 3,
   "metadata": {},
   "outputs": [],
   "source": [
    "def get(ilist):\n",
    "    if variable_hist[ilist[1]] and variable_hist[ilist[1]][-1] is not None:\n",
    "        print(variable_hist[ilist[1]][-1] if ilist[1] in variable_hist else 'NULL')\n",
    "    elif not variable_hist[ilist[1]]:\n",
    "        print('NULL')    \n",
    "    else:\n",
    "        print('NULL')"
   ]
  },
  {
   "cell_type": "code",
   "execution_count": 4,
   "metadata": {},
   "outputs": [],
   "source": [
    "def unset(ilist):\n",
    "    if ilist[1] in variable_hist:\n",
    "        if transaction_falg == True:\n",
    "            variable_list[len(variable_list)-1].append(ilist[1])\n",
    "        variable_hist[ilist[1]].append(None)\n",
    "    else:\n",
    "        print(\"Variable \" + ilist[1] + \" is not defined\")"
   ]
  },
  {
   "cell_type": "code",
   "execution_count": 5,
   "metadata": {},
   "outputs": [],
   "source": [
    "def numequalto(ilist):\n",
    "        count=0\n",
    "        for attr_list in list(variable_hist.values()):\n",
    "            if attr_list[-1] == ilist[1]:\n",
    "                count = count + 1\n",
    "        print(count)      "
   ]
  },
  {
   "cell_type": "code",
   "execution_count": 6,
   "metadata": {},
   "outputs": [],
   "source": [
    "def add(ilist):    \n",
    "    if ilist[2].isdigit() and ilist[1] in variable_hist:\n",
    "        variable_hist[ilist[1]].append(str(int(variable_hist[ilist[1]][-1]) + (int(ilist[2]))))\n",
    "    elif ilist[1] in variable_hist and ilist[2] in variable_hist:\n",
    "        variable_hist[ilist[1]].append(str(int(variable_hist[ilist[1]][-1]) + int(variable_hist[ilist[2]][-1])))\n",
    "    else:\n",
    "        print('NULL')"
   ]
  },
  {
   "cell_type": "code",
   "execution_count": 7,
   "metadata": {},
   "outputs": [],
   "source": [
    "def begin():\n",
    "    global transaction_falg\n",
    "    global trans_number\n",
    "    trans_number =trans_number + 1\n",
    "    transaction_falg = True\n",
    "    variable_list.append([])\n",
    "    \n",
    "def rollback():\n",
    "    if trans_number < 0 or transaction_falg == False or len(variable_list)==0 :\n",
    "        if not variable_list[len(variable_list)-1] and len(variable_list)>= 1:\n",
    "            variable_list.pop()\n",
    "        print(\"There are no transactions available to Rollback\")\n",
    "    else:\n",
    "        for variable in variable_list[len(variable_list)-1]:\n",
    "            variable_hist[variable].pop()\n",
    "        variable_list.pop()\n",
    "        \n",
    "def commit():\n",
    "    global transaction_falg\n",
    "    if transaction_falg == False:\n",
    "        print(\"There are no transactions available to commit\")\n",
    "    else:\n",
    "        for variable in variable_list[len(variable_list)-1]:\n",
    "            size = len(variable_hist[variable])\n",
    "            del variable_hist[variable][:size-1]\n",
    "    transaction_falg = False\n",
    "    trans_number = -1"
   ]
  },
  {
   "cell_type": "code",
   "execution_count": 8,
   "metadata": {},
   "outputs": [
    {
     "name": "stdout",
     "output_type": "stream",
     "text": [
      "set x 10\n",
      "get x\n",
      "10\n",
      "unset x\n",
      "get x\n",
      "NULL\n",
      "end\n"
     ]
    }
   ],
   "source": [
    "variable_hist = {} # stores the data of all variables and its previous values for DB transactions\n",
    "variable_list = [] # stores the variables which are modified in current transaction\n",
    "transaction_falg= False # transaction flag to indicate DB transactions\n",
    "trans_number = -1\n",
    "\n",
    "if __name__ == '__main__':\n",
    "\n",
    "    while True:\n",
    "        cmd = input()\n",
    "        cmd_list = cmd.split(' ')\n",
    "        if cmd_list[0].lower() == 'end':\n",
    "            break\n",
    "        else:\n",
    "            cmd_list = ' '.join(cmd_list).split()\n",
    "        execute_commands(cmd_list[0].lower(), cmd_list)"
   ]
  },
  {
   "cell_type": "code",
   "execution_count": 9,
   "metadata": {},
   "outputs": [
    {
     "name": "stdout",
     "output_type": "stream",
     "text": [
      "set a 10\n",
      "set b 10\n",
      "numequalto 10\n",
      "2\n",
      "numequalto 20\n",
      "0\n",
      "set b 30\n",
      "numequalto 10\n",
      "1\n",
      "end\n"
     ]
    }
   ],
   "source": [
    "# testing all scenarios by running the main cell block code in below cells"
   ]
  },
  {
   "cell_type": "code",
   "execution_count": 10,
   "metadata": {},
   "outputs": [
    {
     "name": "stdout",
     "output_type": "stream",
     "text": [
      "set c 5\n",
      "add c 4\n",
      "get c\n",
      "9\n",
      "add b 1\n",
      "NULL\n",
      "end\n"
     ]
    }
   ],
   "source": []
  },
  {
   "cell_type": "code",
   "execution_count": 11,
   "metadata": {},
   "outputs": [
    {
     "name": "stdout",
     "output_type": "stream",
     "text": [
      "set x 10\n",
      "set y 20\n",
      "add x y\n",
      "get x\n",
      "30\n",
      "add a x\n",
      "NULL\n",
      "end\n"
     ]
    }
   ],
   "source": []
  },
  {
   "cell_type": "code",
   "execution_count": 12,
   "metadata": {},
   "outputs": [
    {
     "name": "stdout",
     "output_type": "stream",
     "text": [
      "begin\n",
      "set a 10\n",
      "get a \n",
      "10\n",
      "begin\n",
      "set a 20\n",
      "get a\n",
      "20\n",
      "rollback\n",
      "get a\n",
      "10\n",
      "rollback\n",
      "get a\n",
      "NULL\n",
      "end\n"
     ]
    }
   ],
   "source": []
  },
  {
   "cell_type": "code",
   "execution_count": 13,
   "metadata": {},
   "outputs": [
    {
     "name": "stdout",
     "output_type": "stream",
     "text": [
      "begin\n",
      "set a 30\n",
      "begin\n",
      "set a 40\n",
      "commit\n",
      "get a\n",
      "40\n",
      "rollback\n",
      "There are no transactions available to Rollback\n",
      "end\n"
     ]
    }
   ],
   "source": []
  },
  {
   "cell_type": "code",
   "execution_count": 14,
   "metadata": {},
   "outputs": [
    {
     "name": "stdout",
     "output_type": "stream",
     "text": [
      "set a 50\n",
      "begin\n",
      "get a \n",
      "50\n",
      "set a 60\n",
      "begin\n",
      "unset a\n",
      "get a\n",
      "NULL\n",
      "rollback\n",
      "get a\n",
      "60\n",
      "commit\n",
      "get a\n",
      "60\n",
      "end\n"
     ]
    }
   ],
   "source": []
  },
  {
   "cell_type": "code",
   "execution_count": 15,
   "metadata": {},
   "outputs": [
    {
     "name": "stdout",
     "output_type": "stream",
     "text": [
      "set a 10\n",
      "begin\n",
      "numequalto 10\n",
      "1\n",
      "begin\n",
      "unset a\n",
      "numequalto 10\n",
      "0\n",
      "rollback\n",
      "numequalto 10\n",
      "1\n",
      "commit\n",
      "end\n"
     ]
    }
   ],
   "source": [
    "variable_hist = {} # stores the data of all variables and its previous values for DB transactions\n",
    "variable_list = [] # stores the variables which are modified in current transaction\n",
    "transaction_falg= False # transaction flag to indicate DB transactions\n",
    "trans_number = -1\n",
    "\n",
    "if __name__ == '__main__':\n",
    "\n",
    "    while True:\n",
    "        cmd = input()\n",
    "        cmd_list = cmd.split(' ')\n",
    "        if cmd_list[0].lower() == 'end':\n",
    "            break\n",
    "        else:\n",
    "            cmd_list = ' '.join(cmd_list).split()\n",
    "        execute_commands(cmd_list[0].lower(), cmd_list)"
   ]
  }
 ],
 "metadata": {
  "kernelspec": {
   "display_name": "Python 3",
   "language": "python",
   "name": "python3"
  },
  "language_info": {
   "codemirror_mode": {
    "name": "ipython",
    "version": 3
   },
   "file_extension": ".py",
   "mimetype": "text/x-python",
   "name": "python",
   "nbconvert_exporter": "python",
   "pygments_lexer": "ipython3",
   "version": "3.7.6"
  }
 },
 "nbformat": 4,
 "nbformat_minor": 4
}
